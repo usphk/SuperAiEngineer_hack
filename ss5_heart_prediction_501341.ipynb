{
  "cells": [
    {
      "cell_type": "code",
      "execution_count": 5,
      "metadata": {
        "colab": {
          "base_uri": "https://localhost:8080/"
        },
        "id": "RWiLjcFXpiyQ",
        "outputId": "3d733a5f-337d-416a-bbe3-4550516301b7"
      },
      "outputs": [
        {
          "name": "stdout",
          "output_type": "stream",
          "text": [
            "id       0\n",
            "class    0\n",
            "dtype: int64\n",
            "                                     id  class\n",
            "0  30de3513-93ff-42d8-ad5f-4c93f4a4444c      6\n",
            "1  84e55af1-ae63-4b06-b650-1136d38b691e      4\n",
            "2  2471a7eb-af35-4ae7-870e-6650de9f0c2f      2\n",
            "3  d00e8bdc-79af-4e55-b25a-96ea589b6420      3\n",
            "4  ad9f77bc-5ab6-477d-b760-2f3fc65c14d3      5\n"
          ]
        }
      ],
      "source": [
        "\n",
        "import pandas as pd\n",
        "import numpy as np\n",
        "\n",
        "# # โหลดข้อมูล\n",
        "# pd = pd.read_csv('/Users/assariyumyuang/Downloads/sample_submission (2).csv')\n",
        "\n",
        "# # ตรวจสอบคอลัมน์ที่มีค่า Null\n",
        "# null_columns = pd.columns[pd.isnull().any()].tolist()\n",
        "\n",
        "# # เติมค่า Null แบบสุ่มในแต่ละคอลัมน์ที่มีค่า Null\n",
        "# for col in null_columns:\n",
        "#     null_indices = pd[pd[col].isnull()].index\n",
        "#     random_values = np.random.randint(0, 7, size=len(null_indices))  # สร้างค่าสุ่มจาก 0 ถึง 6\n",
        "#     pd.loc[null_indices, col] = random_values\n",
        "\n",
        "# # ตรวจสอบค่า Null อีกครั้ง\n",
        "# print(pd.isnull().sum())\n",
        "\n",
        "# # แสดงผลข้อมูล (Optional)\n",
        "# print(pd.head())\n",
        "\n",
        "# import pandas as pd\n",
        "# import numpy as np\n",
        "\n",
        "import pandas as pd\n",
        "import numpy as np\n",
        "\n",
        "# โหลดข้อมูล\n",
        "pd = pd.read_csv('/Users/assariyumyuang/Downloads/sample_submission (2).csv')\n",
        "\n",
        "# ตรวจสอบคอลัมน์ที่มีค่า Null\n",
        "null_columns = pd.columns[pd.isnull().any()].tolist()\n",
        "\n",
        "# เติมค่า Null แบบสุ่มในแต่ละคอลัมน์ที่มีค่า Null\n",
        "for col in null_columns:\n",
        "    null_indices = pd[pd[col].isnull()].index\n",
        "    random_values = np.random.randint(0, 7, size=len(null_indices))  # สร้างค่าสุ่มจาก 0 ถึง 6\n",
        "    pd.loc[null_indices, col] = random_values.astype(int)  # แปลงเป็นจำนวนเต็มก่อนเติม\n",
        "\n",
        "# แปลงคอลัมน์ทั้งหมดเป็น int อีกครั้ง\n",
        "for col in null_columns:\n",
        "    pd[col] = pd[col].astype(int)\n",
        "\n",
        "# ตรวจสอบค่า Null อีกครั้ง\n",
        "print(pd.isnull().sum())\n",
        "\n",
        "# แสดงผลข้อมูล (Optional)\n",
        "print(pd.head())\n",
        "\n",
        "pd.to_csv('su.csv', index=False)"
      ]
    },
    {
      "cell_type": "code",
      "execution_count": 171,
      "metadata": {
        "colab": {
          "base_uri": "https://localhost:8080/"
        },
        "id": "MKIxpSYBp5Fo",
        "outputId": "6ea79c17-3499-4b07-ecb9-05888559f5ef"
      },
      "outputs": [
        {
          "name": "stderr",
          "output_type": "stream",
          "text": [
            "<ipython-input-171-10d89d5bdeb1>:7: FutureWarning: A value is trying to be set on a copy of a DataFrame or Series through chained assignment using an inplace method.\n",
            "The behavior will change in pandas 3.0. This inplace method will never work because the intermediate object on which we are setting values always behaves as a copy.\n",
            "\n",
            "For example, when doing 'df[col].method(value, inplace=True)', try using 'df.method({col: value}, inplace=True)' or df[col] = df[col].method(value) instead, to perform the operation inplace on the original object.\n",
            "\n",
            "\n",
            "  data['Told High Cholesterol'].fillna('No', inplace=True)\n"
          ]
        }
      ],
      "source": [
        "columns_to_drop = ['Cholesterol Checked','Education Level','Health Care Coverage','Doctor Visit Cost Barrier','Income Level']\n",
        "data = data.drop(columns = columns_to_drop)\n",
        "data = data.dropna(subset=['History of HeartDisease or Attack'])\n",
        "data = data.dropna(subset=['Smoked 100+ Cigarettes'])\n",
        "data = data.dropna(subset=['Diagnosed Diabetes'])\n",
        "data = data.dropna(subset=['General Health'])\n",
        "data['Told High Cholesterol'].fillna('No', inplace=True)"
      ]
    },
    {
      "cell_type": "code",
      "execution_count": 172,
      "metadata": {
        "id": "4gkxspdOVUNh"
      },
      "outputs": [],
      "source": [
        "from sklearn.preprocessing import LabelEncoder\n",
        "\n",
        "history_Encoder = LabelEncoder()\n",
        "data['History of HeartDisease or Attack']=history_Encoder.fit_transform(data['History of HeartDisease or Attack'])\n",
        "\n",
        "blood_Encoder = LabelEncoder()\n",
        "data['High Blood Pressure']=blood_Encoder.fit_transform(data['High Blood Pressure'])\n",
        "\n",
        "cholesterol_Encoder = LabelEncoder()\n",
        "data['Told High Cholesterol']=cholesterol_Encoder.fit_transform(data['Told High Cholesterol'])\n",
        "\n",
        "smoked_Encoder = LabelEncoder()\n",
        "data['Smoked 100+ Cigarettes']=smoked_Encoder.fit_transform(data['Smoked 100+ Cigarettes'])\n",
        "\n",
        "stroke_Encoder = LabelEncoder()\n",
        "data['Diagnosed Stroke']=stroke_Encoder.fit_transform(data['Diagnosed Stroke'])\n",
        "\n",
        "diabetes_Encoder = LabelEncoder()\n",
        "data['Diagnosed Diabetes']=diabetes_Encoder.fit_transform(data['Diagnosed Diabetes'])\n",
        "\n",
        "leisure_Encoder = LabelEncoder()\n",
        "data['Leisure Physical Activity']=leisure_Encoder.fit_transform(data['Leisure Physical Activity'])\n",
        "\n",
        "alcohol_Encoder = LabelEncoder()\n",
        "data['Heavy Alcohol Consumption']=alcohol_Encoder.fit_transform(data['Heavy Alcohol Consumption'])\n",
        "\n",
        "general_Encoder = LabelEncoder()\n",
        "data['General Health']=general_Encoder.fit_transform(data['General Health'])\n",
        "\n",
        "walking_Encoder = LabelEncoder()\n",
        "data['Difficulty Walking']=walking_Encoder.fit_transform(data['Difficulty Walking'])\n",
        "\n",
        "sex_Encoder = LabelEncoder()\n",
        "data['Sex']=sex_Encoder.fit_transform(data['Sex'])\n",
        "\n",
        "vegetable_Encoder = LabelEncoder()\n",
        "data['Vegetable or Fruit Intake (1+ per Day)']=vegetable_Encoder.fit_transform(data['Vegetable or Fruit Intake (1+ per Day)'])"
      ]
    },
    {
      "cell_type": "code",
      "execution_count": 173,
      "metadata": {
        "colab": {
          "base_uri": "https://localhost:8080/"
        },
        "id": "2vBxPqLLXEEf",
        "outputId": "9f113e10-1f78-46bf-b07a-8d17e98ba5ce"
      },
      "outputs": [
        {
          "name": "stderr",
          "output_type": "stream",
          "text": [
            "<ipython-input-173-0656cbd3af3f>:7: FutureWarning: A value is trying to be set on a copy of a DataFrame or Series through chained assignment using an inplace method.\n",
            "The behavior will change in pandas 3.0. This inplace method will never work because the intermediate object on which we are setting values always behaves as a copy.\n",
            "\n",
            "For example, when doing 'df[col].method(value, inplace=True)', try using 'df.method({col: value}, inplace=True)' or df[col] = df[col].method(value) instead, to perform the operation inplace on the original object.\n",
            "\n",
            "\n",
            "  data['Body Mass Index'].fillna(data['Body Mass Index'].mean(), inplace=True)\n"
          ]
        }
      ],
      "source": [
        "from sklearn.preprocessing import StandardScaler\n",
        "\n",
        "body = StandardScaler()\n",
        "data['Body Mass Index'] = body.fit_transform(data[['Body Mass Index']])\n",
        "\n",
        "\n",
        "data['Body Mass Index'].fillna(data['Body Mass Index'].mean(), inplace=True)\n",
        "\n",
        "\n",
        "age = StandardScaler()\n",
        "data['Age'] = age.fit_transform(data[['Age']])"
      ]
    },
    {
      "cell_type": "markdown",
      "metadata": {
        "id": "GQhbUSVCWRPx"
      },
      "source": []
    },
    {
      "cell_type": "code",
      "execution_count": 187,
      "metadata": {
        "colab": {
          "base_uri": "https://localhost:8080/"
        },
        "id": "rxJ1_ucVdNPB",
        "outputId": "df79bbf5-cc4d-4047-92e2-1e5b23238501"
      },
      "outputs": [
        {
          "name": "stdout",
          "output_type": "stream",
          "text": [
            "Accuracy on test set: 75.17%\n",
            "              precision    recall  f1-score   support\n",
            "\n",
            "           0       0.98      0.75      0.85     40652\n",
            "           1       0.22      0.80      0.35      3625\n",
            "\n",
            "    accuracy                           0.75     44277\n",
            "   macro avg       0.60      0.78      0.60     44277\n",
            "weighted avg       0.92      0.75      0.81     44277\n",
            "\n"
          ]
        }
      ],
      "source": [
        "from sklearn.model_selection import train_test_split, cross_val_score\n",
        "from sklearn.ensemble import RandomForestClassifier\n",
        "from sklearn.preprocessing import LabelEncoder\n",
        "from imblearn.over_sampling import SMOTE\n",
        "from sklearn.linear_model import LogisticRegression\n",
        "from sklearn.metrics import accuracy_score, classification_report, f1_score\n",
        "\n",
        "\n",
        "X = data.drop(['ID','History of HeartDisease or Attack'], axis=1)\n",
        "y = data['History of HeartDisease or Attack']\n",
        "\n",
        "X_train, X_test, y_train, y_test = train_test_split(X, y, test_size=0.2, random_state=42)\n",
        "\n",
        "\n",
        "model = LogisticRegression(random_state=42)\n",
        "\n",
        "smote = SMOTE(random_state=42)\n",
        "X_train_resampled, y_train_resampled = smote.fit_resample(X_train, y_train)\n",
        "\n",
        "\n",
        "model.fit(X_train_resampled, y_train_resampled)\n",
        "\n",
        "\n",
        "y_pred = model.predict(X_test)\n",
        "\n",
        "\n",
        "accuracy = accuracy_score(y_test, y_pred)\n",
        "print(f\"Accuracy on test set: {accuracy * 100:.2f}%\")\n",
        "print(classification_report(y_test, y_pred))\n"
      ]
    },
    {
      "cell_type": "code",
      "execution_count": 192,
      "metadata": {
        "colab": {
          "base_uri": "https://localhost:8080/"
        },
        "id": "9w4CqNNNAyEi",
        "outputId": "261040dc-5c68-4da1-e3f9-e8a2490f2f17"
      },
      "outputs": [
        {
          "data": {
            "text/plain": [
              "Index(['ID', 'High Blood Pressure', 'Told High Cholesterol',\n",
              "       'Cholesterol Checked', 'Body Mass Index', 'Smoked 100+ Cigarettes',\n",
              "       'Diagnosed Stroke', 'Diagnosed Diabetes', 'Leisure Physical Activity',\n",
              "       'Heavy Alcohol Consumption', 'Health Care Coverage',\n",
              "       'Doctor Visit Cost Barrier', 'General Health', 'Difficulty Walking',\n",
              "       'Sex', 'Education Level', 'Income Level', 'Age',\n",
              "       'Vegetable or Fruit Intake (1+ per Day)'],\n",
              "      dtype='object')"
            ]
          },
          "execution_count": 192,
          "metadata": {},
          "output_type": "execute_result"
        }
      ],
      "source": [
        "test_data = pd.read_csv('/content/test.csv')\n",
        "test_data.columns"
      ]
    },
    {
      "cell_type": "code",
      "execution_count": 193,
      "metadata": {
        "colab": {
          "base_uri": "https://localhost:8080/"
        },
        "id": "t2lmPjZ6Ax0y",
        "outputId": "fac37d0b-3dba-449f-9e72-fe7469f399bf"
      },
      "outputs": [
        {
          "name": "stderr",
          "output_type": "stream",
          "text": [
            "<ipython-input-193-c564caa6d67e>:44: FutureWarning: A value is trying to be set on a copy of a DataFrame or Series through chained assignment using an inplace method.\n",
            "The behavior will change in pandas 3.0. This inplace method will never work because the intermediate object on which we are setting values always behaves as a copy.\n",
            "\n",
            "For example, when doing 'df[col].method(value, inplace=True)', try using 'df.method({col: value}, inplace=True)' or df[col] = df[col].method(value) instead, to perform the operation inplace on the original object.\n",
            "\n",
            "\n",
            "  test_data['Body Mass Index'].fillna(test_data['Body Mass Index'].mean(), inplace=True)\n"
          ]
        }
      ],
      "source": [
        "from sklearn.preprocessing import LabelEncoder,StandardScaler\n",
        "\n",
        "columns_to_drop = ['Cholesterol Checked','Education Level','Health Care Coverage','Doctor Visit Cost Barrier','Income Level']\n",
        "test_data = test_data.drop(columns = columns_to_drop)\n",
        "\n",
        "\n",
        "blood_Encoder = LabelEncoder()\n",
        "test_data['High Blood Pressure']=blood_Encoder.fit_transform(test_data['High Blood Pressure'])\n",
        "\n",
        "cholesterol_Encoder = LabelEncoder()\n",
        "test_data['Told High Cholesterol']=cholesterol_Encoder.fit_transform(test_data['Told High Cholesterol'])\n",
        "\n",
        "smoked_Encoder = LabelEncoder()\n",
        "test_data['Smoked 100+ Cigarettes']=smoked_Encoder.fit_transform(test_data['Smoked 100+ Cigarettes'])\n",
        "\n",
        "stroke_Encoder = LabelEncoder()\n",
        "test_data['Diagnosed Stroke']=stroke_Encoder.fit_transform(test_data['Diagnosed Stroke'])\n",
        "\n",
        "diabetes_Encoder = LabelEncoder()\n",
        "test_data['Diagnosed Diabetes']=diabetes_Encoder.fit_transform(test_data['Diagnosed Diabetes'])\n",
        "\n",
        "leisure_Encoder = LabelEncoder()\n",
        "test_data['Leisure Physical Activity']=leisure_Encoder.fit_transform(test_data['Leisure Physical Activity'])\n",
        "\n",
        "alcohol_Encoder = LabelEncoder()\n",
        "test_data['Heavy Alcohol Consumption']=alcohol_Encoder.fit_transform(test_data['Heavy Alcohol Consumption'])\n",
        "\n",
        "general_Encoder = LabelEncoder()\n",
        "test_data['General Health']=general_Encoder.fit_transform(test_data['General Health'])\n",
        "\n",
        "walking_Encoder = LabelEncoder()\n",
        "test_data['Difficulty Walking']=walking_Encoder.fit_transform(test_data['Difficulty Walking'])\n",
        "\n",
        "sex_Encoder = LabelEncoder()\n",
        "test_data['Sex']=sex_Encoder.fit_transform(test_data['Sex'])\n",
        "\n",
        "vegetable_Encoder = LabelEncoder()\n",
        "test_data['Vegetable or Fruit Intake (1+ per Day)']=vegetable_Encoder.fit_transform(test_data['Vegetable or Fruit Intake (1+ per Day)'])\n",
        "\n",
        "\n",
        "body = StandardScaler()\n",
        "test_data['Body Mass Index'] = body.fit_transform(test_data[['Body Mass Index']])\n",
        "\n",
        "\n",
        "test_data['Body Mass Index'].fillna(test_data['Body Mass Index'].mean(), inplace=True)\n",
        "\n",
        "\n",
        "age = StandardScaler()\n",
        "test_data['Age'] = age.fit_transform(test_data[['Age']])"
      ]
    },
    {
      "cell_type": "code",
      "execution_count": 195,
      "metadata": {
        "id": "_M4xBSdnBoKZ"
      },
      "outputs": [],
      "source": [
        "output = test_data[['ID']].copy()\n",
        "X = test_data.drop(['ID'], axis=1)\n",
        "pred = model.predict(X)  # ทำนายผลลัพธ์\n",
        "output['History of HeartDisease or Attack'] = pred\n",
        "output.to_csv('submission.csv', index=False)"
      ]
    },
    {
      "cell_type": "code",
      "execution_count": 196,
      "metadata": {
        "colab": {
          "base_uri": "https://localhost:8080/",
          "height": 178
        },
        "id": "fOC84lrkBPWa",
        "outputId": "efb94d76-6152-400a-e584-bad5a9fc548e"
      },
      "outputs": [
        {
          "data": {
            "text/html": [
              "<div>\n",
              "<style scoped>\n",
              "    .dataframe tbody tr th:only-of-type {\n",
              "        vertical-align: middle;\n",
              "    }\n",
              "\n",
              "    .dataframe tbody tr th {\n",
              "        vertical-align: top;\n",
              "    }\n",
              "\n",
              "    .dataframe thead th {\n",
              "        text-align: right;\n",
              "    }\n",
              "</style>\n",
              "<table border=\"1\" class=\"dataframe\">\n",
              "  <thead>\n",
              "    <tr style=\"text-align: right;\">\n",
              "      <th></th>\n",
              "      <th>count</th>\n",
              "    </tr>\n",
              "    <tr>\n",
              "      <th>History of HeartDisease or Attack</th>\n",
              "      <th></th>\n",
              "    </tr>\n",
              "  </thead>\n",
              "  <tbody>\n",
              "    <tr>\n",
              "      <th>0</th>\n",
              "      <td>50865</td>\n",
              "    </tr>\n",
              "    <tr>\n",
              "      <th>1</th>\n",
              "      <td>23496</td>\n",
              "    </tr>\n",
              "  </tbody>\n",
              "</table>\n",
              "</div><br><label><b>dtype:</b> int64</label>"
            ],
            "text/plain": [
              "History of HeartDisease or Attack\n",
              "0    50865\n",
              "1    23496\n",
              "Name: count, dtype: int64"
            ]
          },
          "execution_count": 196,
          "metadata": {},
          "output_type": "execute_result"
        }
      ],
      "source": [
        "output['History of HeartDisease or Attack'].value_counts()"
      ]
    },
    {
      "cell_type": "code",
      "execution_count": 197,
      "metadata": {
        "colab": {
          "base_uri": "https://localhost:8080/"
        },
        "id": "nhWMh07oIWj5",
        "outputId": "0a175c56-53e9-43cf-ccba-445d890d5045"
      },
      "outputs": [
        {
          "name": "stdout",
          "output_type": "stream",
          "text": [
            "            ID History of HeartDisease or Attack\n",
            "0  test_000001                               Yes\n",
            "1  test_000002                                No\n",
            "2  test_000003                               Yes\n",
            "3  test_000004                                No\n",
            "4  test_000005                                No\n"
          ]
        }
      ],
      "source": [
        "output['History of HeartDisease or Attack'] = output['History of HeartDisease or Attack'].replace({0: 'No', 1: 'Yes'})\n",
        "\n",
        "print(output.head())\n"
      ]
    },
    {
      "cell_type": "code",
      "execution_count": 199,
      "metadata": {
        "id": "NyI3wolUJ_Qf"
      },
      "outputs": [],
      "source": [
        "output.to_csv('submission_2.csv', index=False)"
      ]
    }
  ],
  "metadata": {
    "colab": {
      "provenance": []
    },
    "kernelspec": {
      "display_name": "base",
      "language": "python",
      "name": "python3"
    },
    "language_info": {
      "codemirror_mode": {
        "name": "ipython",
        "version": 3
      },
      "file_extension": ".py",
      "mimetype": "text/x-python",
      "name": "python",
      "nbconvert_exporter": "python",
      "pygments_lexer": "ipython3",
      "version": "3.12.4"
    }
  },
  "nbformat": 4,
  "nbformat_minor": 0
}
